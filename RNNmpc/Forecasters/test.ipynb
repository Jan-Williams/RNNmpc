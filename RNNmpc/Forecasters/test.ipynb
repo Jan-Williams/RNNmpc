{
 "cells": [
  {
   "cell_type": "code",
   "execution_count": 1,
   "metadata": {},
   "outputs": [],
   "source": [
    "import RNNmpc.Forecasters.s5_forecaster"
   ]
  },
  {
   "cell_type": "code",
   "execution_count": 2,
   "metadata": {},
   "outputs": [
    {
     "name": "stdout",
     "output_type": "stream",
     "text": [
      "tensor([-0.5000+31.3133j, -0.5000-31.3133j, -0.5000+9.1299j, -0.5000-9.1299j,\n",
      "        -0.5000+4.0976j, -0.5000-4.0976j, -0.5000+1.7091j, -0.5000-1.7091j,\n",
      "        -0.5000+0.3994j, -0.5000-0.3994j], dtype=torch.complex128) tensor([[-0.0976-0.0313j, -0.0976+0.0313j, -0.0803-0.0933j, -0.0803+0.0933j,\n",
      "         -0.0904+0.1483j, -0.0904-0.1483j,  0.1588-0.2501j,  0.1588+0.2501j,\n",
      "          0.5970+0.0000j,  0.5970+0.0000j],\n",
      "        [-0.1650-0.0648j, -0.1650+0.0648j, -0.0998-0.1856j, -0.0998+0.1856j,\n",
      "         -0.2425+0.1490j, -0.2425-0.1490j,  0.4018+0.0000j,  0.4018+0.0000j,\n",
      "         -0.2534+0.3428j, -0.2534-0.3428j],\n",
      "        [-0.2002-0.1099j, -0.2002+0.1099j, -0.0168-0.2653j, -0.0168+0.2653j,\n",
      "         -0.3140-0.1138j, -0.3140+0.1138j, -0.0469+0.3867j, -0.0469-0.3867j,\n",
      "          0.0730-0.3295j,  0.0730+0.3295j],\n",
      "        [-0.2073-0.1721j, -0.2073+0.1721j,  0.1644-0.2564j,  0.1644+0.2564j,\n",
      "          0.0112-0.3519j,  0.0112+0.3519j, -0.2879-0.2133j, -0.2879+0.2133j,\n",
      "          0.0155+0.2865j,  0.0155-0.2865j],\n",
      "        [-0.1778-0.2470j, -0.1778+0.2470j,  0.3266-0.0583j,  0.3266+0.0583j,\n",
      "          0.3534+0.0000j,  0.3534+0.0000j,  0.3235-0.0587j,  0.3235+0.0587j,\n",
      "         -0.0643-0.2454j, -0.0643+0.2454j],\n",
      "        [-0.1012-0.3190j, -0.1012+0.3190j,  0.2380+0.2569j,  0.2380-0.2569j,\n",
      "         -0.0661+0.3404j, -0.0661-0.3404j, -0.2019+0.2270j, -0.2019-0.2270j,\n",
      "          0.0931+0.2101j,  0.0931-0.2101j],\n",
      "        [ 0.0258-0.3608j,  0.0258+0.3608j, -0.1455+0.3316j, -0.1455-0.3316j,\n",
      "         -0.2851-0.1787j, -0.2851+0.1787j,  0.0475-0.2790j,  0.0475+0.2790j,\n",
      "         -0.1108-0.1802j, -0.1108+0.1802j],\n",
      "        [ 0.1887-0.3366j,  0.1887+0.3366j, -0.3648-0.0549j, -0.3648+0.0549j,\n",
      "          0.2847-0.1565j,  0.2847+0.1565j,  0.0817+0.2527j,  0.0817-0.2527j,\n",
      "          0.1217+0.1549j,  0.1217-0.1549j],\n",
      "        [ 0.3455-0.2164j,  0.3455+0.2164j,  0.0059-0.3720j,  0.0059+0.3720j,\n",
      "         -0.0372+0.3111j, -0.0372-0.3111j, -0.1683-0.1861j, -0.1683+0.1861j,\n",
      "         -0.1283-0.1334j, -0.1283+0.1334j],\n",
      "        [ 0.4274+0.0000j,  0.4274+0.0000j,  0.3724+0.0000j,  0.3724+0.0000j,\n",
      "         -0.2031-0.2236j, -0.2031+0.2236j,  0.2135+0.1056j,  0.2135-0.1056j,\n",
      "          0.1321+0.1150j,  0.1321-0.1150j]], dtype=torch.complex128)\n",
      "torch.complex128\n"
     ]
    }
   ],
   "source": [
    "model = RNNmpc.Forecasters.s5_forecaster.S5Layer(3, 10)"
   ]
  },
  {
   "cell_type": "code",
   "execution_count": 5,
   "metadata": {},
   "outputs": [
    {
     "data": {
      "text/plain": [
       "tensor([-0.5000+31.3133j, -0.5000-31.3133j, -0.5000+9.1299j, -0.5000-9.1299j,\n",
       "        -0.5000+4.0976j, -0.5000-4.0976j, -0.5000+1.7091j, -0.5000-1.7091j,\n",
       "        -0.5000+0.3994j, -0.5000-0.3994j], dtype=torch.complex128)"
      ]
     },
     "execution_count": 5,
     "metadata": {},
     "output_type": "execute_result"
    }
   ],
   "source": [
    "model.lambda_vec.data"
   ]
  },
  {
   "cell_type": "code",
   "execution_count": 10,
   "metadata": {},
   "outputs": [],
   "source": [
    "import torch\n",
    "A_legsn = torch.zeros((10, 10), dtype=torch.complex128)\n",
    "for n in range(10):\n",
    "    for k in range(10):\n",
    "        if n == k:\n",
    "            A_legsn[n,k] = -1/2\n",
    "        if n > k:\n",
    "            A_legsn[n,k] = -((n+1/2)**(1/2)) * ((k+1/2)**(1/2))\n",
    "        if n < k:\n",
    "            A_legsn[n,k] = ((n+1/2)**(1/2)) * ((k+1/2)**(1/2))\n",
    "\n",
    "lambda_vec, eig_vecs = torch.linalg.eig(A_legsn)"
   ]
  },
  {
   "cell_type": "code",
   "execution_count": 11,
   "metadata": {},
   "outputs": [
    {
     "data": {
      "text/plain": [
       "tensor([-0.5000+31.3133j, -0.5000-31.3133j, -0.5000+9.1299j, -0.5000-9.1299j,\n",
       "        -0.5000+4.0976j, -0.5000-4.0976j, -0.5000+1.7091j, -0.5000-1.7091j,\n",
       "        -0.5000+0.3994j, -0.5000-0.3994j], dtype=torch.complex128)"
      ]
     },
     "execution_count": 11,
     "metadata": {},
     "output_type": "execute_result"
    }
   ],
   "source": [
    "lambda_vec"
   ]
  },
  {
   "cell_type": "code",
   "execution_count": 3,
   "metadata": {},
   "outputs": [],
   "source": [
    "import torch\n",
    "a = torch.ones((10,10))"
   ]
  },
  {
   "cell_type": "code",
   "execution_count": 5,
   "metadata": {},
   "outputs": [
    {
     "data": {
      "text/plain": [
       "torch.float32"
      ]
     },
     "execution_count": 5,
     "metadata": {},
     "output_type": "execute_result"
    }
   ],
   "source": [
    "a.dtype"
   ]
  },
  {
   "cell_type": "code",
   "execution_count": 7,
   "metadata": {},
   "outputs": [],
   "source": [
    "a = a.type(torch.complex128)"
   ]
  },
  {
   "cell_type": "code",
   "execution_count": 9,
   "metadata": {},
   "outputs": [
    {
     "data": {
      "text/plain": [
       "torch.complex128"
      ]
     },
     "execution_count": 9,
     "metadata": {},
     "output_type": "execute_result"
    }
   ],
   "source": [
    "a.dtype"
   ]
  },
  {
   "cell_type": "code",
   "execution_count": null,
   "metadata": {},
   "outputs": [],
   "source": [
    "def make_HiPPO(N):\n",
    "    \"\"\" Create a HiPPO-LegS matrix.\n",
    "        From https://github.com/srush/annotated-s4/blob/main/s4/s4.py\n",
    "        Args:\n",
    "            N (int32): state size\n",
    "        Returns:\n",
    "            N x N HiPPO LegS matrix\n",
    "    \"\"\"\n",
    "    P = np.sqrt(1 + 2 * np.arange(N))\n",
    "    A = P[:, np.newaxis] * P[np.newaxis, :]\n",
    "    A = np.tril(A) - np.diag(np.arange(N))\n",
    "    return -A"
   ]
  },
  {
   "cell_type": "code",
   "execution_count": null,
   "metadata": {},
   "outputs": [
    {
     "data": {
      "text/plain": [
       "array([[ 0.0000000e+00, -0.0000000e+00, -0.0000000e+00],\n",
       "       [ 0.0000000e+00,  4.4408921e-16, -0.0000000e+00],\n",
       "       [ 0.0000000e+00,  0.0000000e+00, -8.8817842e-16]])"
      ]
     },
     "execution_count": 6,
     "metadata": {},
     "output_type": "execute_result"
    }
   ],
   "source": [
    "make_HiPPO(3) - A_legs"
   ]
  },
  {
   "cell_type": "code",
   "execution_count": null,
   "metadata": {},
   "outputs": [],
   "source": [
    "A_legsn = np.zeros((3,3))\n",
    "for n in range(3):\n",
    "    for k in range(3):\n",
    "        if n == k:\n",
    "            A_legsn[n,k] = -1/2\n",
    "        if n > k:\n",
    "            A_legsn[n,k] = -((n+1/2)**(1/2)) * ((k+1/2)**(1/2))\n",
    "        if n < k:\n",
    "            A_legsn[n,k] = ((n+1/2)**(1/2)) * ((k+1/2)**(1/2))"
   ]
  },
  {
   "cell_type": "code",
   "execution_count": null,
   "metadata": {},
   "outputs": [
    {
     "data": {
      "text/plain": [
       "array([[-0.5       ,  0.8660254 ,  1.11803399],\n",
       "       [-0.8660254 , -0.5       ,  1.93649167],\n",
       "       [-1.11803399, -1.93649167, -0.5       ]])"
      ]
     },
     "execution_count": 32,
     "metadata": {},
     "output_type": "execute_result"
    }
   ],
   "source": [
    "A_legsn"
   ]
  },
  {
   "cell_type": "code",
   "execution_count": null,
   "metadata": {},
   "outputs": [],
   "source": [
    "def make_NPLR_HiPPO(N):\n",
    "    \"\"\"\n",
    "    Makes components needed for NPLR representation of HiPPO-LegS\n",
    "     From https://github.com/srush/annotated-s4/blob/main/s4/s4.py\n",
    "    Args:\n",
    "        N (int32): state size\n",
    "\n",
    "    Returns:\n",
    "        N x N HiPPO LegS matrix, low-rank factor P, HiPPO input matrix B\n",
    "\n",
    "    \"\"\"\n",
    "    # Make -HiPPO\n",
    "    hippo = make_HiPPO(N)\n",
    "\n",
    "    # Add in a rank 1 term. Makes it Normal.\n",
    "    P = np.sqrt(np.arange(N) + 0.5)\n",
    "\n",
    "    # HiPPO also specifies the B matrix\n",
    "    B = np.sqrt(2 * np.arange(N) + 1.0)\n",
    "    return hippo, P, B\n",
    "hippo, P, B = make_NPLR_HiPPO(3)"
   ]
  },
  {
   "cell_type": "code",
   "execution_count": null,
   "metadata": {},
   "outputs": [
    {
     "data": {
      "text/plain": [
       "array([[-1.        ,  0.        ,  0.        ],\n",
       "       [-1.73205081, -2.        ,  0.        ],\n",
       "       [-2.23606798, -3.87298335, -3.        ]])"
      ]
     },
     "execution_count": 34,
     "metadata": {},
     "output_type": "execute_result"
    }
   ],
   "source": [
    "A_legs"
   ]
  },
  {
   "cell_type": "code",
   "execution_count": null,
   "metadata": {},
   "outputs": [
    {
     "data": {
      "text/plain": [
       "array([[ 1.11022302e-16,  0.00000000e+00,  0.00000000e+00],\n",
       "       [ 0.00000000e+00, -2.22044605e-16,  0.00000000e+00],\n",
       "       [ 0.00000000e+00, -4.44089210e-16,  4.44089210e-16]])"
      ]
     },
     "execution_count": 35,
     "metadata": {},
     "output_type": "execute_result"
    }
   ],
   "source": [
    "A_legs + P.reshape(-1,1) @ P.reshape(1,-1) - A_legsn"
   ]
  },
  {
   "cell_type": "code",
   "execution_count": null,
   "metadata": {},
   "outputs": [],
   "source": [
    "def make_DPLR_HiPPO(N):\n",
    "    \"\"\"\n",
    "    Makes components needed for DPLR representation of HiPPO-LegS\n",
    "     From https://github.com/srush/annotated-s4/blob/main/s4/s4.py\n",
    "    Note, we will only use the diagonal part\n",
    "    Args:\n",
    "        N:\n",
    "\n",
    "    Returns:\n",
    "        eigenvalues Lambda, low-rank term P, conjugated HiPPO input matrix B,\n",
    "        eigenvectors V, HiPPO B pre-conjugation\n",
    "\n",
    "    \"\"\"\n",
    "    A, P, B = make_NPLR_HiPPO(N)\n",
    "\n",
    "    S = A + P[:, np.newaxis] * P[np.newaxis, :]\n",
    "\n",
    "\n",
    "    S_diag = np.diagonal(S)\n",
    "    Lambda_real = np.mean(S_diag) * np.ones_like(S_diag)\n",
    "\n",
    "    # Diagonalize S to V \\Lambda V^*\n",
    "    Lambda_imag, V = np.linalg.eigh(S * -1j)\n",
    "\n",
    "    P = V.conj().T @ P\n",
    "    B_orig = B\n",
    "    B = V.conj().T @ B\n",
    "    return Lambda_real + 1j * Lambda_imag, P, B, V, B_orig"
   ]
  },
  {
   "cell_type": "code",
   "execution_count": null,
   "metadata": {},
   "outputs": [
    {
     "name": "stdout",
     "output_type": "stream",
     "text": [
      "[[-0.5         0.8660254   1.11803399]\n",
      " [-0.8660254  -0.5         1.93649167]\n",
      " [-1.11803399 -1.93649167 -0.5       ]]\n"
     ]
    }
   ],
   "source": [
    "b = make_DPLR_HiPPO(3)"
   ]
  },
  {
   "cell_type": "code",
   "execution_count": null,
   "metadata": {},
   "outputs": [
    {
     "data": {
      "text/plain": [
       "array([[-0.5       ,  0.8660254 ,  1.11803399],\n",
       "       [-0.8660254 , -0.5       ,  1.93649167],\n",
       "       [-1.11803399, -1.93649167, -0.5       ]])"
      ]
     },
     "execution_count": 36,
     "metadata": {},
     "output_type": "execute_result"
    }
   ],
   "source": [
    "A_legsn"
   ]
  },
  {
   "cell_type": "code",
   "execution_count": null,
   "metadata": {},
   "outputs": [
    {
     "data": {
      "text/plain": [
       "array([-0.5+0.j        , -0.5+2.39791576j, -0.5-2.39791576j])"
      ]
     },
     "execution_count": 39,
     "metadata": {},
     "output_type": "execute_result"
    }
   ],
   "source": [
    "np.linalg.eig(A_legsn)[0]"
   ]
  },
  {
   "cell_type": "code",
   "execution_count": null,
   "metadata": {},
   "outputs": [
    {
     "data": {
      "text/plain": [
       "array([-0.5-2.39791576e+00j, -0.5-2.23971846e-16j, -0.5+2.39791576e+00j])"
      ]
     },
     "execution_count": 45,
     "metadata": {},
     "output_type": "execute_result"
    }
   ],
   "source": [
    "b[0]"
   ]
  },
  {
   "cell_type": "code",
   "execution_count": null,
   "metadata": {},
   "outputs": [
    {
     "data": {
      "text/plain": [
       "-8.881784197001252e-16j"
      ]
     },
     "execution_count": 43,
     "metadata": {},
     "output_type": "execute_result"
    }
   ],
   "source": [
    "b[0][0] - np.linalg.eig(A_legsn)[0][2]"
   ]
  },
  {
   "cell_type": "code",
   "execution_count": null,
   "metadata": {},
   "outputs": [],
   "source": [
    "A_legsn = np.zeros((3,3))\n",
    "for n in range(3):\n",
    "    for k in range(3):\n",
    "        if n == k:\n",
    "            A_legsn[n,k] = -1/2\n",
    "        if n > k:\n",
    "            A_legsn[n,k] = -((n+1/2)**(1/2)) * ((k+1/2)**(1/2))\n",
    "        if n < k:\n",
    "            A_legsn[n,k] = ((n+1/2)**(1/2)) * ((k+1/2)**(1/2))"
   ]
  },
  {
   "cell_type": "code",
   "execution_count": null,
   "metadata": {},
   "outputs": [
    {
     "data": {
      "text/plain": [
       "array([[-0.5       ,  0.8660254 ,  1.11803399],\n",
       "       [-0.8660254 , -0.5       ,  1.93649167],\n",
       "       [-1.11803399, -1.93649167, -0.5       ]])"
      ]
     },
     "execution_count": 47,
     "metadata": {},
     "output_type": "execute_result"
    }
   ],
   "source": [
    "A_legsn"
   ]
  },
  {
   "cell_type": "code",
   "execution_count": null,
   "metadata": {},
   "outputs": [
    {
     "name": "stdout",
     "output_type": "stream",
     "text": [
      "[[-0.5         0.8660254   1.11803399]\n",
      " [-0.8660254  -0.5         1.93649167]\n",
      " [-1.11803399 -1.93649167 -0.5       ]]\n"
     ]
    }
   ],
   "source": [
    "eigs_func, P_func, B_func, V_func, B_orig_func = make_DPLR_HiPPO(3)"
   ]
  },
  {
   "cell_type": "code",
   "execution_count": null,
   "metadata": {},
   "outputs": [],
   "source": [
    "eigs_me, v_me = np.linalg.eig(A_legsn)"
   ]
  },
  {
   "cell_type": "code",
   "execution_count": null,
   "metadata": {},
   "outputs": [
    {
     "data": {
      "text/plain": [
       "array([-0.5+0.j        , -0.5+2.39791576j, -0.5-2.39791576j])"
      ]
     },
     "execution_count": 57,
     "metadata": {},
     "output_type": "execute_result"
    }
   ],
   "source": [
    "eigs_me"
   ]
  },
  {
   "cell_type": "code",
   "execution_count": null,
   "metadata": {},
   "outputs": [
    {
     "data": {
      "text/plain": [
       "array([[-0.80757285+0.j        , -0.22116293-0.35355339j,\n",
       "        -0.22116293+0.35355339j],\n",
       "       [ 0.4662524 +0.j        ,  0.12768848-0.61237244j,\n",
       "         0.12768848+0.61237244j],\n",
       "       [-0.36115756+0.j        ,  0.65938047+0.j        ,\n",
       "         0.65938047-0.j        ]])"
      ]
     },
     "execution_count": 80,
     "metadata": {},
     "output_type": "execute_result"
    }
   ],
   "source": [
    "v_me"
   ]
  },
  {
   "cell_type": "code",
   "execution_count": null,
   "metadata": {},
   "outputs": [
    {
     "data": {
      "text/plain": [
       "torch.return_types.linalg_eig(\n",
       "eigenvalues=tensor([-0.5000+0.0000j, -0.5000+2.3979j, -0.5000-2.3979j],\n",
       "       dtype=torch.complex128),\n",
       "eigenvectors=tensor([[-0.8076+0.0000j, -0.2212-0.3536j, -0.2212+0.3536j],\n",
       "        [ 0.4663+0.0000j,  0.1277-0.6124j,  0.1277+0.6124j],\n",
       "        [-0.3612+0.0000j,  0.6594+0.0000j,  0.6594-0.0000j]],\n",
       "       dtype=torch.complex128))"
      ]
     },
     "execution_count": 79,
     "metadata": {},
     "output_type": "execute_result"
    }
   ],
   "source": [
    "import torch\n",
    "torch.linalg.eig(torch.tensor(A_legsn))"
   ]
  },
  {
   "cell_type": "code",
   "execution_count": null,
   "metadata": {},
   "outputs": [
    {
     "data": {
      "text/plain": [
       "array([-0.5-2.39791576e+00j, -0.5-2.23971846e-16j, -0.5+2.39791576e+00j])"
      ]
     },
     "execution_count": 58,
     "metadata": {},
     "output_type": "execute_result"
    }
   ],
   "source": [
    "eigs_func"
   ]
  },
  {
   "cell_type": "markdown",
   "metadata": {},
   "source": [
    "Keeping eigs me constant, eigs func goes 1, 2, 0."
   ]
  },
  {
   "cell_type": "code",
   "execution_count": null,
   "metadata": {},
   "outputs": [
    {
     "data": {
      "text/plain": [
       "4.718957269898597e-16"
      ]
     },
     "execution_count": 71,
     "metadata": {},
     "output_type": "execute_result"
    }
   ],
   "source": [
    "np.linalg.norm(v_me @ np.diag(eigs_me) @ v_me.conj().T - A_legsn)"
   ]
  },
  {
   "cell_type": "code",
   "execution_count": null,
   "metadata": {},
   "outputs": [
    {
     "data": {
      "text/plain": [
       "1.7709714597310653e-15"
      ]
     },
     "execution_count": 78,
     "metadata": {},
     "output_type": "execute_result"
    }
   ],
   "source": [
    "np.linalg.norm(V_func @ np.diag(eigs_func) @ V_func.conj().T - A_legsn)"
   ]
  },
  {
   "cell_type": "code",
   "execution_count": null,
   "metadata": {},
   "outputs": [
    {
     "data": {
      "text/plain": [
       "array([[-0.41702883+0.00000000e+00j,  0.80757285+0.00000000e+00j,\n",
       "         0.41702883+0.00000000e+00j],\n",
       "       [-0.45144695+4.33012702e-01j, -0.4662524 +1.11022302e-16j,\n",
       "         0.45144695+4.33012702e-01j],\n",
       "       [ 0.3496893 +5.59016994e-01j,  0.36115756+1.42011982e-16j,\n",
       "        -0.3496893 +5.59016994e-01j]])"
      ]
     },
     "execution_count": 73,
     "metadata": {},
     "output_type": "execute_result"
    }
   ],
   "source": [
    "V_func"
   ]
  },
  {
   "cell_type": "code",
   "execution_count": null,
   "metadata": {},
   "outputs": [
    {
     "data": {
      "text/plain": [
       "array([[-0.80757285+0.j        , -0.22116293-0.35355339j,\n",
       "        -0.22116293+0.35355339j],\n",
       "       [ 0.4662524 +0.j        ,  0.12768848-0.61237244j,\n",
       "         0.12768848+0.61237244j],\n",
       "       [-0.36115756+0.j        ,  0.65938047+0.j        ,\n",
       "         0.65938047-0.j        ]])"
      ]
     },
     "execution_count": 74,
     "metadata": {},
     "output_type": "execute_result"
    }
   ],
   "source": [
    "v_me"
   ]
  },
  {
   "cell_type": "code",
   "execution_count": null,
   "metadata": {},
   "outputs": [],
   "source": []
  }
 ],
 "metadata": {
  "kernelspec": {
   "display_name": "neurocontrol",
   "language": "python",
   "name": "python3"
  },
  "language_info": {
   "codemirror_mode": {
    "name": "ipython",
    "version": 3
   },
   "file_extension": ".py",
   "mimetype": "text/x-python",
   "name": "python",
   "nbconvert_exporter": "python",
   "pygments_lexer": "ipython3",
   "version": "3.10.6"
  }
 },
 "nbformat": 4,
 "nbformat_minor": 2
}
